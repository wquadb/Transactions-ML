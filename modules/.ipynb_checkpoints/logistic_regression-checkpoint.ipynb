{
 "cells": [
  {
   "cell_type": "code",
   "execution_count": 6,
   "metadata": {},
   "outputs": [],
   "source": [
    "import numpy as np\n",
    "import pandas as pd\n",
    "import matplotlib.pyplot as plt\n",
    "import seaborn as sns\n",
    "from sklearn.model_selection import train_test_split\n",
    "from sklearn.metrics import f1_score, classification_report, accuracy_score, roc_auc_score\n",
    "from sklearn.linear_model import LogisticRegression\n",
    "from sklearn.preprocessing import StandardScaler\n",
    "from sklearn.linear_model import LinearRegression\n",
    "from sklearn.metrics import mean_squared_error"
   ]
  },
  {
   "cell_type": "code",
   "execution_count": 2,
   "metadata": {},
   "outputs": [],
   "source": [
    "def df_one_hot(df, column):\n",
    "        one_hot = pd.get_dummies(df[column], dtype=bool)\n",
    "        df = df.drop(column, axis=1)\n",
    "        df = df.join(one_hot)\n",
    "        return df\n",
    "\n",
    "def df_normalize(df, column):\n",
    "    max_value = df[column].max()\n",
    "    min_value = df[column].min()\n",
    "    df[column] = (df[column] - min_value) / (max_value - min_value)\n",
    "    return df"
   ]
  },
  {
   "cell_type": "code",
   "execution_count": 3,
   "metadata": {},
   "outputs": [],
   "source": [
    "df = pd.read_csv(\"../datasets/transactions.csv\")\n",
    "\n",
    "df_labels = pd.read_csv(\"../datasets/train.csv\")\n",
    "df = df.merge(df_labels, left_on='client_id', right_on='client_id')\n",
    "\n",
    "\n",
    "df = df_one_hot(df, \"trans_city\")\n",
    "mcc_code_cl = list(df[\"mcc_code\"].unique())\n",
    "df = df_one_hot(df, \"mcc_code\")\n",
    "\n",
    "drop = [\"term_id\", \"Unnamed: 0\"]\n",
    "df = df.drop(drop, axis=1)\n",
    "\n",
    "df[\"big_transaction+\"] = df[df[\"amount\"] >= 100000][\"amount\"]\n",
    "df[\"big_transaction+\"] = df[\"big_transaction+\"].notna()\n",
    "\n",
    "df[\"big_transaction-\"] = df[df[\"amount\"] <= -100000][\"amount\"]\n",
    "df[\"big_transaction-\"] = df[\"big_transaction-\"].notna()\n",
    "\n",
    "df[\"amount+\"] = df[\"amount\"].apply(lambda x: x if x>0 else 0)\n",
    "df[\"amount-\"] = df[\"amount\"].apply(lambda x: x if x<0 else 0)\n",
    "\n",
    "agg_func_describe = {'Kaliningrad': ['mean'],\n",
    "                     'Kazan': ['mean'], \n",
    "                     'Khabarovsk': ['mean'], \n",
    "                     'Moscow': ['mean'], \n",
    "                     'Novosibirsk': ['mean'], \n",
    "                     'Penza': ['mean'], \n",
    "                     'Saint Petersburg': ['mean'], \n",
    "                     'Tver': ['mean'], \n",
    "                     'Vladimir': ['mean'], \n",
    "                     'Vladivostok': ['mean'],\n",
    "                     \"big_transaction-\": [\"sum\"],\n",
    "                     \"big_transaction+\": [\"sum\"],\n",
    "                     \"gender\":[\"mean\"],\n",
    "                     \"amount\":[\"mean\", \"sum\", \"median\"],\n",
    "                     \"amount+\":[\"mean\", \"sum\"],\n",
    "                     \"amount-\":[\"mean\", \"sum\"],\n",
    "                     }\n",
    "\n",
    "for cl in mcc_code_cl:\n",
    "    agg_func_describe[cl] = \"sum\"\n",
    "\n",
    "df = df.groupby(['client_id']).agg(agg_func_describe).round(4)\n",
    "\n",
    "norm = [\"amount\", \"amount+\", \"amount-\"] + mcc_code_cl\n",
    "for cl in norm:\n",
    "    df = df_normalize(df, cl)\n",
    "\n",
    "target = df['gender']\n",
    "X = df.drop(['gender'], axis=1)"
   ]
  },
  {
   "cell_type": "code",
   "execution_count": 5,
   "metadata": {},
   "outputs": [
    {
     "name": "stdout",
     "output_type": "stream",
     "text": [
      "Итоговый f1_score на валидации:  0.70147954743255\n",
      "Итоговый accuracy на валидации:  0.7581100141043724\n"
     ]
    },
    {
     "name": "stderr",
     "output_type": "stream",
     "text": [
      "C:\\Users\\rober\\AppData\\Local\\Programs\\Python\\Python311\\Lib\\site-packages\\sklearn\\utils\\validation.py:1183: DataConversionWarning: A column-vector y was passed when a 1d array was expected. Please change the shape of y to (n_samples, ), for example using ravel().\n",
      "  y = column_or_1d(y, warn=True)\n"
     ]
    }
   ],
   "source": [
    "X_train, X_test, y_train, y_test = train_test_split(X, target, stratify=target, random_state=179)\n",
    "X_train, X_val, y_train, y_val = train_test_split(X_train, y_train, stratify=y_train, random_state=179)\n",
    "\n",
    "scaler = StandardScaler()\n",
    "X_train = scaler.fit_transform(X_train)\n",
    "X_test = scaler.transform(X_test)\n",
    "X_val = scaler.transform(X_val)\n",
    "\n",
    "model = LogisticRegression()\n",
    "model.fit(X_train, y_train)\n",
    "\n",
    "y_pred_val = model.predict(X_val)\n",
    "print('Итоговый f1_score на валидации: ', f1_score(y_val, y_pred_val))\n",
    "print('Итоговый accuracy на валидации: ', accuracy_score(y_val, y_pred_val))\n",
    "print('Итоговый ROC-accuracy на валидации: ', roc_auc_score(y_val, y_pred_val))\n",
    "\n",
    "# y_pred_test = model.predict(X_test)\n",
    "# print('Итоговый f1_score на тесте: ', f1_score(y_test, y_pred_test))\n",
    "# print('Итоговый accuracy на тесте: ', accuracy_score(y_test, y_pred_test))"
   ]
  },
  {
   "cell_type": "code",
   "execution_count": 7,
   "metadata": {},
   "outputs": [
    {
     "name": "stdout",
     "output_type": "stream",
     "text": [
      "Итоговый ROC-accuracy на валидации:  0.7462372089275642\n"
     ]
    }
   ],
   "source": [
    "print('Итоговый ROC-accuracy на валидации: ', roc_auc_score(y_val, y_pred_val))"
   ]
  },
  {
   "cell_type": "code",
   "execution_count": null,
   "metadata": {},
   "outputs": [],
   "source": []
  }
 ],
 "metadata": {
  "kernelspec": {
   "display_name": "Python 3 (ipykernel)",
   "language": "python",
   "name": "python3"
  },
  "language_info": {
   "codemirror_mode": {
    "name": "ipython",
    "version": 3
   },
   "file_extension": ".py",
   "mimetype": "text/x-python",
   "name": "python",
   "nbconvert_exporter": "python",
   "pygments_lexer": "ipython3",
   "version": "3.11.3"
  }
 },
 "nbformat": 4,
 "nbformat_minor": 4
}
