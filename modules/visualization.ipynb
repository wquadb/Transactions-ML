{
 "cells": [
  {
   "cell_type": "code",
   "execution_count": 1,
   "metadata": {},
   "outputs": [
    {
     "name": "stdout",
     "output_type": "stream",
     "text": [
      "success\n"
     ]
    }
   ],
   "source": [
    "import matplotlib.pyplot as plt\n",
    "import numpy as np\n",
    "import torch\n",
    "import pandas as pd\n",
    "print(\"success\")"
   ]
  },
  {
   "cell_type": "code",
   "execution_count": 3,
   "metadata": {},
   "outputs": [
    {
     "data": {
      "text/html": [
       "<div>\n",
       "<style scoped>\n",
       "    .dataframe tbody tr th:only-of-type {\n",
       "        vertical-align: middle;\n",
       "    }\n",
       "\n",
       "    .dataframe tbody tr th {\n",
       "        vertical-align: top;\n",
       "    }\n",
       "\n",
       "    .dataframe thead th {\n",
       "        text-align: right;\n",
       "    }\n",
       "</style>\n",
       "<table border=\"1\" class=\"dataframe\">\n",
       "  <thead>\n",
       "    <tr style=\"text-align: right;\">\n",
       "      <th></th>\n",
       "      <th>client_id</th>\n",
       "      <th>trans_time</th>\n",
       "      <th>mcc_code</th>\n",
       "      <th>trans_type</th>\n",
       "      <th>amount</th>\n",
       "      <th>term_id</th>\n",
       "      <th>trans_city</th>\n",
       "    </tr>\n",
       "  </thead>\n",
       "  <tbody>\n",
       "    <tr>\n",
       "      <th>0</th>\n",
       "      <td>d1bbbc9a0e0410d3cf12a3d2f44f3450</td>\n",
       "      <td>35 08:24:41</td>\n",
       "      <td>4829</td>\n",
       "      <td>2370</td>\n",
       "      <td>-1808.56</td>\n",
       "      <td>NaN</td>\n",
       "      <td>Tver</td>\n",
       "    </tr>\n",
       "    <tr>\n",
       "      <th>1</th>\n",
       "      <td>81c7349f7bdcb661bc7d5f5f0fdac6aa</td>\n",
       "      <td>351 13:27:15</td>\n",
       "      <td>6011</td>\n",
       "      <td>7010</td>\n",
       "      <td>7954.51</td>\n",
       "      <td>442207</td>\n",
       "      <td>Kazan</td>\n",
       "    </tr>\n",
       "    <tr>\n",
       "      <th>2</th>\n",
       "      <td>fc0c7c937f139bd6d1c5b5d0a0023dd3</td>\n",
       "      <td>150 16:03:59</td>\n",
       "      <td>6011</td>\n",
       "      <td>2010</td>\n",
       "      <td>-12293.56</td>\n",
       "      <td>NaN</td>\n",
       "      <td>Khabarovsk</td>\n",
       "    </tr>\n",
       "    <tr>\n",
       "      <th>3</th>\n",
       "      <td>3495487d5beaa5caaa0682fddc38379a</td>\n",
       "      <td>373 11:54:12</td>\n",
       "      <td>6010</td>\n",
       "      <td>7070</td>\n",
       "      <td>49.52</td>\n",
       "      <td>888987</td>\n",
       "      <td>Kaliningrad</td>\n",
       "    </tr>\n",
       "    <tr>\n",
       "      <th>4</th>\n",
       "      <td>07e279042b1da23710fa2f65034d30b9</td>\n",
       "      <td>340 13:11:45</td>\n",
       "      <td>6010</td>\n",
       "      <td>7070</td>\n",
       "      <td>45.29</td>\n",
       "      <td>888918</td>\n",
       "      <td>Saint Petersburg</td>\n",
       "    </tr>\n",
       "  </tbody>\n",
       "</table>\n",
       "</div>"
      ],
      "text/plain": [
       "                          client_id    trans_time  mcc_code  trans_type   \n",
       "0  d1bbbc9a0e0410d3cf12a3d2f44f3450   35 08:24:41      4829        2370  \\\n",
       "1  81c7349f7bdcb661bc7d5f5f0fdac6aa  351 13:27:15      6011        7010   \n",
       "2  fc0c7c937f139bd6d1c5b5d0a0023dd3  150 16:03:59      6011        2010   \n",
       "3  3495487d5beaa5caaa0682fddc38379a  373 11:54:12      6010        7070   \n",
       "4  07e279042b1da23710fa2f65034d30b9  340 13:11:45      6010        7070   \n",
       "\n",
       "     amount term_id        trans_city  \n",
       "0  -1808.56     NaN              Tver  \n",
       "1   7954.51  442207             Kazan  \n",
       "2 -12293.56     NaN        Khabarovsk  \n",
       "3     49.52  888987       Kaliningrad  \n",
       "4     45.29  888918  Saint Petersburg  "
      ]
     },
     "execution_count": 3,
     "metadata": {},
     "output_type": "execute_result"
    }
   ],
   "source": [
    "df = pd.read_csv(\"../datasets/transactions.csv\")\n",
    "df.head()"
   ]
  },
  {
   "cell_type": "code",
   "execution_count": null,
   "metadata": {},
   "outputs": [],
   "source": []
  }
 ],
 "metadata": {
  "kernelspec": {
   "display_name": "Python 3 (ipykernel)",
   "language": "python",
   "name": "python3"
  },
  "language_info": {
   "codemirror_mode": {
    "name": "ipython",
    "version": 3
   },
   "file_extension": ".py",
   "mimetype": "text/x-python",
   "name": "python",
   "nbconvert_exporter": "python",
   "pygments_lexer": "ipython3",
   "version": "3.11.3"
  }
 },
 "nbformat": 4,
 "nbformat_minor": 4
}
